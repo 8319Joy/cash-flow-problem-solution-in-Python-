{
 "cells": [
  {
   "cell_type": "markdown",
   "id": "c8154496",
   "metadata": {},
   "source": [
    "# Problem:\n",
    "You run a small business, and you want to analyze your cash flow for the next 12 months. Each month, you expect some inflows and outflows of cash. Your goal is to calculate:\n",
    "\n",
    "The net cash flow for each month.\n",
    "The cumulative cash balance over time.\n",
    "Identify any months where your cash balance becomes negative.\n",
    "Here's a breakdown of the problem:\n",
    "\n",
    "You are provided with two lists:\n",
    "A list of cash inflows for 12 months.\n",
    "A list of cash outflows for 12 months.\n",
    "You start with an initial balance of Rs.10,000.\n",
    "You need to compute:\n",
    "\n",
    "Monthly net cash flow (inflow - outflow).\n",
    "Monthly cash balance.\n",
    "Highlight months where the cash balance becomes negative."
   ]
  },
  {
   "cell_type": "code",
   "execution_count": 8,
   "id": "f20d43ba",
   "metadata": {},
   "outputs": [
    {
     "name": "stdout",
     "output_type": "stream",
     "text": [
      "Month\tInflows\tOutflows\tNet Flow\tBalance\n",
      "1\tRs.5000\tRs.4000\t\tRs.1000\t\tRs.11000\n",
      "2\tRs.7000\tRs.6500\t\tRs.500\t\tRs.11500\n",
      "3\tRs.6000\tRs.5500\t\tRs.500\t\tRs.12000\n",
      "4\tRs.8000\tRs.7000\t\tRs.1000\t\tRs.13000\n",
      "5\tRs.7500\tRs.8000\t\tRs.-500\t\tRs.12500\n",
      "6\tRs.5000\tRs.6000\t\tRs.-1000\t\tRs.11500\n",
      "7\tRs.4500\tRs.5000\t\tRs.-500\t\tRs.11000\n",
      "8\tRs.5200\tRs.4800\t\tRs.400\t\tRs.11400\n",
      "9\tRs.6100\tRs.5900\t\tRs.200\t\tRs.11600\n",
      "10\tRs.7200\tRs.6400\t\tRs.800\t\tRs.12400\n",
      "11\tRs.6700\tRs.6300\t\tRs.400\t\tRs.12800\n",
      "12\tRs.7000\tRs.6800\t\tRs.200\t\tRs.13000\n",
      "\n",
      "No months with negative cash balance.\n"
     ]
    }
   ],
   "source": [
    "# Data: Inflows and Outflows for each month (for simplicity, use sample data)\n",
    "cash_inflows = [5000, 7000, 6000, 8000, 7500, 5000, 4500, 5200, 6100, 7200, 6700, 7000]\n",
    "cash_outflows= [4000, 6500, 5500, 7000, 8000, 6000, 5000, 4800, 5900, 6400, 6300, 6800]\n",
    "\n",
    "# Starting balance\n",
    "initial_balance = 10000\n",
    "\n",
    "# Initialize lists for storing results\n",
    "net_cash_flow =[]\n",
    "cash_balance =[]\n",
    "\n",
    "# Loop through each month to calculate net cash flow and balance\n",
    "balance = initial_balance\n",
    "for i in range(12):\n",
    "    # Calculate the net cash flow (inflow - outflow)\n",
    "    net_flow = cash_inflows[i] - cash_outflows[i]\n",
    "    net_cash_flow.append(net_flow)\n",
    "    \n",
    "    # Update balance for the month\n",
    "    balance += net_flow\n",
    "    cash_balance.append(balance)\n",
    "\n",
    "# Print Results\n",
    "print(\"Month\\tInflows\\tOutflows\\tNet Flow\\tBalance\")\n",
    "for i in range(12):\n",
    "    print(f\"{i+1}\\tRs.{cash_inflows[i]}\\tRs.{cash_outflows[i]}\\t\\tRs.{net_cash_flow[i]}\\t\\tRs.{cash_balance[i]}\")\n",
    "    \n",
    "# Highlight months where the balance is negative\n",
    "negative_months = [i+1 for i in range(12) if cash_balance[i] < 0]\n",
    "if negative_months:\n",
    "    print(\"\\nWarning: Negative cash balance in months:\",negative_months)\n",
    "else:\n",
    "    print(\"\\nNo months with negative cash balance.\")\n"
   ]
  },
  {
   "cell_type": "markdown",
   "id": "e09033b8",
   "metadata": {},
   "source": [
    "Explanation:\n",
    "cash_inflows and cash_outflows are the monthly inflows and outflows respectively.\n",
    "We calculate the net_cash_flow by subtracting outflows from inflows.\n",
    "We update the cash_balance by adding the net cash flow to the previous balance.\n",
    "Finally, we print the monthly details and warn the user if the cash balance goes negative in any month."
   ]
  },
  {
   "cell_type": "markdown",
   "id": "cc81283a",
   "metadata": {},
   "source": [
    "You can adjust the cash_inflows and cash_outflows lists as per your data. This script will help analyze cash flow and detect any potential liquidity issues."
   ]
  },
  {
   "cell_type": "code",
   "execution_count": null,
   "id": "4875aaa9",
   "metadata": {},
   "outputs": [],
   "source": []
  }
 ],
 "metadata": {
  "kernelspec": {
   "display_name": "Python 3 (ipykernel)",
   "language": "python",
   "name": "python3"
  },
  "language_info": {
   "codemirror_mode": {
    "name": "ipython",
    "version": 3
   },
   "file_extension": ".py",
   "mimetype": "text/x-python",
   "name": "python",
   "nbconvert_exporter": "python",
   "pygments_lexer": "ipython3",
   "version": "3.11.4"
  }
 },
 "nbformat": 4,
 "nbformat_minor": 5
}
